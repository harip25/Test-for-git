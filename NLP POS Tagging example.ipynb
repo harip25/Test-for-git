{
 "cells": [
  {
   "cell_type": "code",
   "execution_count": 1,
   "metadata": {},
   "outputs": [
    {
     "name": "stdout",
     "output_type": "stream",
     "text": [
      "{'will', 'after', \"haven't\", \"should've\", 'again', 'down', 'against', 'yourselves', 'themselves', 'should', 'where', 'll', 'wasn', 'ourselves', \"couldn't\", 'an', 'our', 's', 'we', 'the', 'd', 'more', \"she's\", 'their', \"it's\", 'its', 'mustn', 'has', 'y', 'but', 'yourself', 'too', 'most', 'out', 'itself', 'she', 'of', 'few', \"hasn't\", 'weren', 'a', 'for', \"mightn't\", 'any', 'he', 'to', 'won', 'below', 'so', 'aren', 'was', 'mightn', \"needn't\", 'both', 'be', 'hasn', 'between', 'hadn', 're', 'because', 'can', 'them', \"you'd\", 'am', 'at', 'ours', 'until', 'no', 'do', 'if', 'up', 'been', 'by', \"mustn't\", \"shouldn't\", 'me', 'why', 'when', 'each', 'nor', 'o', 'what', 'over', 'my', \"wouldn't\", 't', \"didn't\", 'same', 'while', 'into', \"you've\", 'this', 'didn', 'whom', 'had', 'once', 'some', 'yours', \"wasn't\", \"don't\", 'in', 'from', 'just', 'before', 'his', 'these', 'or', 'those', 'own', 'as', 'now', \"won't\", 'did', 'who', 'is', 'were', 'there', 'having', 'all', 'through', 'not', 've', 'during', 'are', 'that', \"that'll\", \"isn't\", 'have', 'such', 'being', \"doesn't\", 'on', 'does', 'which', 'ma', 'himself', 'him', 'm', 'herself', 'needn', 'shan', 'it', \"shan't\", 'your', 'than', 'ain', 'here', 'haven', 'you', 'with', 'above', 'myself', \"you're\", 'hers', 'don', \"weren't\", 'wouldn', 'i', 'very', \"aren't\", 'other', \"hadn't\", 'under', 'theirs', 'isn', 'couldn', 'shouldn', 'about', 'off', 'her', 'they', 'only', \"you'll\", 'and', 'doing', 'further', 'doesn', 'then', 'how'}\n"
     ]
    }
   ],
   "source": [
    "import nltk \n",
    "from nltk.corpus import stopwords \n",
    "from nltk.tokenize import word_tokenize, sent_tokenize\n",
    "import wikipedia as wiki\n",
    "import re\n",
    "\n",
    "Stopwords=set(stopwords.words(\"english\"))\n",
    "print(Stopwords)\n",
    "\n",
    "'''Another way for stopwords inclusion:\n",
    "new_stopwords = ['apple','mango','banana']\n",
    "new_stopwords_list = Stopwords.union(new_stopwords)'''\n",
    "\n",
    "Stopwords.update(('and','I','A','And','So','arnt','This','When','It','many','Many','so','cant','Yes','yes','No','no','These','these'))"
   ]
  },
  {
   "cell_type": "markdown",
   "metadata": {},
   "source": [
    "# Selecting Text and Removing Punctuations, Stopwords "
   ]
  },
  {
   "cell_type": "code",
   "execution_count": 2,
   "metadata": {},
   "outputs": [
    {
     "name": "stdout",
     "output_type": "stream",
     "text": [
      "\n",
      "\n",
      "Words with respective POS tags:\n",
      "[('Sachin', 'NNP'), ('Ramesh', 'NNP'), ('Tendulkar', 'NNP'), ('listen', 'VBD'), ('born', 'VBN'), ('24', 'CD'), ('April', 'NNP'), ('1973', 'CD'), ('Indian', 'NNP'), ('former', 'JJ'), ('international', 'JJ'), ('cricketer', 'NN'), ('served', 'VBD'), ('captain', 'JJ'), ('Indian', 'JJ'), ('national', 'JJ'), ('team', 'NN'), ('He', 'PRP'), ('widely', 'RB'), ('regarded', 'VBD'), ('one', 'CD'), ('greatest', 'JJS'), ('batsmen', 'NNS'), ('history', 'NN'), ('cricket', 'NN'), ('He', 'PRP'), ('highest', 'JJS'), ('run', 'VB'), ('scorer', 'JJR'), ('time', 'NN'), ('international', 'JJ'), ('cricket', 'NN'), ('player', 'NN'), ('scored', 'VBD'), ('one', 'CD'), ('hundred', 'CD'), ('international', 'JJ'), ('centuries', 'NNS'), ('first', 'RB'), ('batsman', 'JJ'), ('score', 'NN'), ('double', 'JJ'), ('century', 'NN'), ('One', 'CD'), ('Day', 'NNP'), ('International', 'NNP'), ('ODI', 'NNP'), ('holder', 'NN'), ('record', 'NN'), ('runs', 'VBZ'), ('Test', 'NNP'), ('ODI', 'NNP'), ('cricket', 'NN'), ('player', 'NN'), ('complete', 'JJ'), ('30000', 'CD'), ('runs', 'NNS'), ('international', 'JJ'), ('cricket', 'NN'), ('In', 'IN'), ('2013', 'CD'), ('Indian', 'JJ'), ('cricketer', 'NN'), ('included', 'VBD'), ('alltime', 'RB'), ('Test', 'NNP'), ('World', 'NNP'), ('XI', 'NNP'), ('named', 'VBD'), ('mark', 'NN'), ('150th', 'CD'), ('anniversary', 'JJ'), ('Wisden', 'NNP'), ('Cricketers', 'NNPS'), ('Almanack', 'NNP'), ('He', 'PRP'), ('affectionately', 'RB'), ('known', 'VBN'), ('Little', 'NNP'), ('Master', 'NNP'), ('Master', 'NNP'), ('BlasterTendulkar', 'NNP'), ('took', 'VBD'), ('cricket', 'NN'), ('age', 'NN'), ('eleven', 'RB'), ('made', 'VBD'), ('Test', 'NNP'), ('debut', 'NN'), ('15', 'CD'), ('November', 'NNP'), ('1989', 'CD'), ('Pakistan', 'NNP'), ('Karachi', 'NNP'), ('age', 'NN'), ('sixteen', 'JJ'), ('went', 'VBD'), ('represent', 'JJ'), ('Mumbai', 'NNP'), ('domestically', 'RB')]\n"
     ]
    }
   ],
   "source": [
    "#txt = \"Sukanya, Rajib and Naba are my good friends. Sukanya is getting married next year. Marriage is a big step in one’s life. It is both exciting and frightening. But friendship is a sacred bond between people. It is a special kind of love between us Many of you must have tried searching for a friend but never found the right one.\"\n",
    "\n",
    "txt=wiki.summary('Sachin Tendulkar')\n",
    "txt = re.sub(r'[^\\w\\s]', '', txt) #Removing Punctuations\n",
    "txt1=word_tokenize(txt) \n",
    "print(\"\\n\\nWords with respective POS tags:\")\n",
    "\n",
    "for i in txt1: \n",
    "\twordsList = [i for i in txt1 if not i in Stopwords] \n",
    "\ttagged1 = nltk.pos_tag(wordsList)\n",
    "\n",
    "tagged=tagged1[0:100]\n",
    "wordsList=wordsList[0:100]\n",
    "print(tagged)  #Clean-text with POS tags"
   ]
  },
  {
   "cell_type": "markdown",
   "metadata": {},
   "source": [
    "# Particular POS Tags from the Text "
   ]
  },
  {
   "cell_type": "code",
   "execution_count": 3,
   "metadata": {},
   "outputs": [
    {
     "name": "stdout",
     "output_type": "stream",
     "text": [
      "\n",
      "\n",
      "Nouns:\n",
      "Sachin\n",
      "Ramesh\n",
      "Tendulkar\n",
      "April\n",
      "Indian\n",
      "Day\n",
      "International\n",
      "ODI\n",
      "Test\n",
      "ODI\n",
      "Test\n",
      "World\n",
      "XI\n",
      "Wisden\n",
      "Almanack\n",
      "Little\n",
      "Master\n",
      "Master\n",
      "BlasterTendulkar\n",
      "Test\n",
      "November\n",
      "Pakistan\n",
      "Karachi\n",
      "Mumbai\n",
      "\n",
      "\n",
      "\n"
     ]
    }
   ],
   "source": [
    "#If we want certain POS tag elements only:\n",
    "print(\"\\n\\nNouns:\")\n",
    "for i in range(0,len(tagged)):\n",
    " if tagged[i][1]==\"NNP\":\n",
    "               print(tagged[i][0])\n",
    "\n",
    "print(\"\\n\\n\")"
   ]
  },
  {
   "cell_type": "markdown",
   "metadata": {},
   "source": [
    "# Particular Grammar check and Parse Tree"
   ]
  },
  {
   "cell_type": "code",
   "execution_count": 4,
   "metadata": {},
   "outputs": [
    {
     "name": "stdout",
     "output_type": "stream",
     "text": [
      "(S\n",
      "  Sachin/NNP\n",
      "  Ramesh/NNP\n",
      "  Tendulkar/NNP\n",
      "  listen/VBD\n",
      "  born/VBN\n",
      "  24/CD\n",
      "  April/NNP\n",
      "  1973/CD\n",
      "  Indian/NNP\n",
      "  (myGrammar former/JJ international/JJ cricketer/NN)\n",
      "  served/VBD\n",
      "  (myGrammar captain/JJ Indian/JJ national/JJ team/NN)\n",
      "  He/PRP\n",
      "  widely/RB\n",
      "  regarded/VBD\n",
      "  one/CD\n",
      "  greatest/JJS\n",
      "  batsmen/NNS\n",
      "  (myGrammar history/NN)\n",
      "  (myGrammar cricket/NN)\n",
      "  He/PRP\n",
      "  highest/JJS\n",
      "  run/VB\n",
      "  scorer/JJR\n",
      "  (myGrammar time/NN)\n",
      "  (myGrammar international/JJ cricket/NN)\n",
      "  (myGrammar player/NN)\n",
      "  scored/VBD\n",
      "  one/CD\n",
      "  hundred/CD\n",
      "  international/JJ\n",
      "  centuries/NNS\n",
      "  first/RB\n",
      "  (myGrammar batsman/JJ score/NN)\n",
      "  (myGrammar double/JJ century/NN)\n",
      "  One/CD\n",
      "  Day/NNP\n",
      "  International/NNP\n",
      "  ODI/NNP\n",
      "  (myGrammar holder/NN)\n",
      "  (myGrammar record/NN)\n",
      "  runs/VBZ\n",
      "  Test/NNP\n",
      "  ODI/NNP\n",
      "  (myGrammar cricket/NN)\n",
      "  (myGrammar player/NN)\n",
      "  complete/JJ\n",
      "  30000/CD\n",
      "  runs/NNS\n",
      "  (myGrammar international/JJ cricket/NN)\n",
      "  In/IN\n",
      "  2013/CD\n",
      "  (myGrammar Indian/JJ cricketer/NN)\n",
      "  included/VBD\n",
      "  alltime/RB\n",
      "  Test/NNP\n",
      "  World/NNP\n",
      "  XI/NNP\n",
      "  named/VBD\n",
      "  (myGrammar mark/NN)\n",
      "  150th/CD\n",
      "  anniversary/JJ\n",
      "  Wisden/NNP\n",
      "  Cricketers/NNPS\n",
      "  Almanack/NNP\n",
      "  He/PRP\n",
      "  affectionately/RB\n",
      "  known/VBN\n",
      "  Little/NNP\n",
      "  Master/NNP\n",
      "  Master/NNP\n",
      "  BlasterTendulkar/NNP\n",
      "  took/VBD\n",
      "  (myGrammar cricket/NN)\n",
      "  (myGrammar age/NN)\n",
      "  eleven/RB\n",
      "  made/VBD\n",
      "  Test/NNP\n",
      "  (myGrammar debut/NN)\n",
      "  15/CD\n",
      "  November/NNP\n",
      "  1989/CD\n",
      "  Pakistan/NNP\n",
      "  Karachi/NNP\n",
      "  (myGrammar age/NN)\n",
      "  sixteen/JJ\n",
      "  went/VBD\n",
      "  represent/JJ\n",
      "  Mumbai/NNP\n",
      "  domestically/RB)\n"
     ]
    }
   ],
   "source": [
    "#To check for our grammer(without common stopwords now) and the parse tree\n",
    "grammar = \"myGrammar: {<DT>?<JJ>*<NN>}\"\n",
    "cp  =nltk.RegexpParser(grammar)\n",
    "result = cp.parse(tagged)\n",
    "print(result)\n",
    "#result.draw() (for parse tree)"
   ]
  },
  {
   "cell_type": "markdown",
   "metadata": {},
   "source": [
    "# Getting Frequency Graphically"
   ]
  },
  {
   "cell_type": "code",
   "execution_count": 5,
   "metadata": {
    "scrolled": true
   },
   "outputs": [
    {
     "data": {
      "image/png": "[encoded data removed]",
      "text/plain": [
       "<Figure size 1130.4x523.44 with 1 Axes>"
      ]
     },
     "metadata": {},
     "output_type": "display_data"
    },
    {
     "data": {
      "text/plain": [
       "<matplotlib.axes._subplots.AxesSubplot at 0x1fba65674c8>"
      ]
     },
     "execution_count": 5,
     "metadata": {},
     "output_type": "execute_result"
    }
   ],
   "source": [
    "import matplotlib.pyplot as plt\n",
    "import seaborn as sns\n",
    "%matplotlib inline\n",
    "sns.set(rc={'figure.figsize':(15.7,7.27)})\n",
    "sns.set_style('darkgrid')\n",
    "nlp_words=nltk.FreqDist(wordsList)\n",
    "nlp_words.plot(40)  #Number of words you wish to see for (decreasing order always)"
   ]
  },
  {
   "cell_type": "markdown",
   "metadata": {},
   "source": [
    "# Frequency in Numbers"
   ]
  },
  {
   "cell_type": "code",
   "execution_count": 6,
   "metadata": {},
   "outputs": [
    {
     "name": "stdout",
     "output_type": "stream",
     "text": [
      "Counter({'cricket': 5, 'international': 4, 'Indian': 3, 'He': 3, 'Test': 3, 'cricketer': 2, 'one': 2, 'player': 2, 'ODI': 2, 'runs': 2, 'Master': 2, 'age': 2, 'Sachin': 1, 'Ramesh': 1, 'Tendulkar': 1, 'listen': 1, 'born': 1, '24': 1, 'April': 1, '1973': 1, 'former': 1, 'served': 1, 'captain': 1, 'national': 1, 'team': 1, 'widely': 1, 'regarded': 1, 'greatest': 1, 'batsmen': 1, 'history': 1, 'highest': 1, 'run': 1, 'scorer': 1, 'time': 1, 'scored': 1, 'hundred': 1, 'centuries': 1, 'first': 1, 'batsman': 1, 'score': 1, 'double': 1, 'century': 1, 'One': 1, 'Day': 1, 'International': 1, 'holder': 1, 'record': 1, 'complete': 1, '30000': 1, 'In': 1, '2013': 1, 'included': 1, 'alltime': 1, 'World': 1, 'XI': 1, 'named': 1, 'mark': 1, '150th': 1, 'anniversary': 1, 'Wisden': 1, 'Cricketers': 1, 'Almanack': 1, 'affectionately': 1, 'known': 1, 'Little': 1, 'BlasterTendulkar': 1, 'took': 1, 'eleven': 1, 'made': 1, 'debut': 1, '15': 1, 'November': 1, '1989': 1, 'Pakistan': 1, 'Karachi': 1, 'sixteen': 1, 'went': 1, 'represent': 1, 'Mumbai': 1, 'domestically': 1})\n"
     ]
    }
   ],
   "source": [
    "from collections import Counter\n",
    "the_count = Counter(nlp_words)\n",
    "print(the_count)"
   ]
  },
  {
   "cell_type": "markdown",
   "metadata": {},
   "source": [
    "# Word Similarity"
   ]
  },
  {
   "cell_type": "code",
   "execution_count": 8,
   "metadata": {},
   "outputs": [
    {
     "name": "stdout",
     "output_type": "stream",
     "text": [
      "Similarity Amongst: highest greatest\n",
      "0.5367369900925021\n"
     ]
    },
    {
     "data": {
      "text/plain": [
       "0.8585214820166811"
      ]
     },
     "execution_count": 8,
     "metadata": {},
     "output_type": "execute_result"
    }
   ],
   "source": [
    "import spacy\n",
    "nlp=spacy.load(\"en_core_web_lg\")  #sm/md instead pf lg has a smaller vector set and thus results less similarity\n",
    "t1,t2 = nlp(wordsList[26]), nlp(wordsList[21]) \n",
    "print(\"Similarity Amongst:\", t1,t2)\n",
    "print(t1.similarity(t2))\n",
    "\n",
    "#Checking another pair\n",
    "nlp(\"dog\").similarity(nlp(\"puppy\"))"
   ]
  },
  {
   "cell_type": "code",
   "execution_count": null,
   "metadata": {},
   "outputs": [],
   "source": []
  }
 ],
 "metadata": {
  "kernelspec": {
   "display_name": "Python 3",
   "language": "python",
   "name": "python3"
  },
  "language_info": {
   "codemirror_mode": {
    "name": "ipython",
    "version": 3
   },
   "file_extension": ".py",
   "mimetype": "text/x-python",
   "name": "python",
   "nbconvert_exporter": "python",
   "pygments_lexer": "ipython3",
   "version": "3.7.6"
  }
 },
 "nbformat": 4,
 "nbformat_minor": 4
}
